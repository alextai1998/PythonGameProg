{
 "cells": [
  {
   "cell_type": "markdown",
   "metadata": {},
   "source": [
    "# Today's program is about the solar system\n",
    "$d=\\sqrt{(e_x - p_x)^2 + (e_y - p_y)^2 + (e_z - p_z)^2}$"
   ]
  },
  {
   "cell_type": "code",
   "execution_count": 15,
   "metadata": {
    "collapsed": false
   },
   "outputs": [
    {
     "name": "stdout",
     "output_type": "stream",
     "text": [
      "Enter the planet name(Venus, Mars, Jupiter, Neptune, Saturn, Mercury)uranus\n"
     ]
    }
   ],
   "source": [
    "\"\"\"\n",
    "This program shows the size and distance of the planets in the solar system with to the Earth.\n",
    "User enters the planet name.\n",
    "\n",
    "\"\"\"\n",
    "\n",
    "import math\n",
    "\n",
    "# This section assigns the information for the relevant planets.\n",
    "planetDatabase = [\"Mercury\", \"Venus\", \"Earth\", \"Mars\", \"Jupiter\", \"Saturn\", \"Uranus\", \"Neptune\"]\n",
    "planetSize = [0.382, 0.949, 1, 0.532, 11.209, 9.44, 4.007, 3.883]\n",
    "\n",
    "# This section asks the user for input\n",
    "planet = input(\"Enter the planet name(Venus, Mars, Jupiter, Neptune, Saturn, Mercury)\")"
   ]
  },
  {
   "cell_type": "code",
   "execution_count": 16,
   "metadata": {
    "collapsed": false
   },
   "outputs": [
    {
     "name": "stdout",
     "output_type": "stream",
     "text": [
      "This is not a planet\n"
     ]
    }
   ],
   "source": [
    "# The following section is the bulk of the program, where it retrieves certain data from the\n",
    "# planetDatabase in accordance to the user input.\n",
    "\n",
    "if  planet == \"Mercury\":\n",
    "    index = planetDatabase.index(\"Mercury\")\n",
    "    distance = float(math.sqrt(pow((1.00 - planetSize[index]), 2)))\n",
    "    print(\"The distance between this planet and Earth is: \" + str(distance) + \"AU.\")\n",
    "    size = float(((3 / 4) * 3.14 * pow((planetSize[index] * 0.5), 3)) / ((3 / 4) * 3.14 * pow((planetSize[2] * 0.5), 3)))\n",
    "    print(\"The size of this planet is: \" + str(size) + \".\")\n",
    "elif  planet == \"Venus\":\n",
    "    index = planetDatabase.index(\"Venus\")\n",
    "    distance = float(math.sqrt(pow((1.00 - planetSize[index]), 2)))\n",
    "    print(\"The distance between this planet and Earth is: \" + str(distance) + \"AU.\")\n",
    "    size = float(((3 / 4) * 3.14 * pow((planetSize[index] * 0.5), 3)) / ((3 / 4) * 3.14 * pow((planetSize[2] * 0.5), 3)))\n",
    "    print(\"The size of this planet is: \" + str(size) + \".\")\n",
    "elif  planet == \"Earth\":\n",
    "    index = planetDatabase.index(\"Earth\")\n",
    "    distance = float(math.sqrt(pow((1.00 - planetSize[index]), 2)))\n",
    "    print(\"The distance between this planet and Earth is: \" + str(distance) + \"AU.\")\n",
    "    size = float(((3 / 4) * 3.14 * pow((planetSize[index] * 0.5), 3)) / ((3 / 4) * 3.14 * pow((planetSize[2] * 0.5), 3)))\n",
    "    print(\"The size of this planet is: \" + str(size) + \".\")\n",
    "elif  planet == \"Mars\":\n",
    "    index = planetDatabase.index(\"Mars\")\n",
    "    distance = float(math.sqrt(pow((1.00 - planetSize[index]), 2)))\n",
    "    print(\"The distance between this planet and Earth is: \" + str(distance) + \"AU.\")\n",
    "    size = float(((3 / 4) * 3.14 * pow((planetSize[index] * 0.5), 3)) / ((3 / 4) * 3.14 * pow((planetSize[2] * 0.5), 3)))\n",
    "    print(\"The size of this planet is: \" + str(size) + \".\")\n",
    "elif  planet == \"Jupiter\":\n",
    "    index = planetDatabase.index(\"Jupiter\")\n",
    "    distance = float(math.sqrt(pow((1.00 - planetSize[index]), 2)))\n",
    "    print(\"The distance between this planet and Earth is: \" + str(distance) + \"AU.\")\n",
    "    size = float(((3 / 4) * 3.14 * pow((planetSize[index] * 0.5), 3)) / ((3 / 4) * 3.14 * pow((planetSize[2] * 0.5), 3)))\n",
    "    print(\"The size of this planet is: \" + str(size) + \".\")\n",
    "elif  planet == \"Saturn\":\n",
    "    index = planetDatabase.index(\"Saturn\")\n",
    "    distance = float(math.sqrt(pow((1.00 - planetSize[index]), 2)))\n",
    "    print(\"The distance between this planet and Earth is: \" + str(distance) + \"AU.\")\n",
    "    size = float(((3 / 4) * 3.14 * pow((planetSize[index] * 0.5), 3)) / ((3 / 4) * 3.14 * pow((planetSize[2] * 0.5), 3)))\n",
    "    print(\"The size of this planet is: \" + str(size) + \".\")\n",
    "elif  planet == \"Uranus\":\n",
    "    index = planetDatabase.index(\"Uranus\")\n",
    "    distance = float(math.sqrt(pow((1.00 - planetSize[index]), 2)))\n",
    "    print(\"The distance between this planet and Earth is: \" + str(distance) + \"AU.\")\n",
    "    size = float(((3 / 4) * 3.14 * pow((planetSize[index] * 0.5), 3)) / ((3 / 4) * 3.14 * pow((planetSize[2] * 0.5), 3)))\n",
    "    print(\"The size of this planet is: \" + str(size) + \".\")\n",
    "elif  planet == \"Neptune\":\n",
    "    index = planetDatabase.index(\"Neptune\")\n",
    "    distance = float(math.sqrt(pow((1.00 - planetSize[index]), 2)))\n",
    "    print(\"The distance between this planet and Earth is: \" + str(distance) + \"AU.\")\n",
    "    size = float(((3 / 4) * 3.14 * pow((planetSize[index] * 0.5), 3)) / ((3 / 4) * 3.14 * pow((planetSize[2] * 0.5), 3)))\n",
    "    print(\"The size of this planet is: \" + str(size) + \".\")\n",
    "else:\n",
    "    print(\"This is not a planet\")"
   ]
  },
  {
   "cell_type": "code",
   "execution_count": 17,
   "metadata": {
    "collapsed": false
   },
   "outputs": [
    {
     "data": {
      "text/plain": [
       "''"
      ]
     },
     "execution_count": 17,
     "metadata": {},
     "output_type": "execute_result"
    }
   ],
   "source": [
    "\"\""
   ]
  }
 ],
 "metadata": {
  "kernelspec": {
   "display_name": "Python [Root]",
   "language": "python",
   "name": "Python [Root]"
  },
  "language_info": {
   "codemirror_mode": {
    "name": "ipython",
    "version": 3.0
   },
   "file_extension": ".py",
   "mimetype": "text/x-python",
   "name": "python",
   "nbconvert_exporter": "python",
   "pygments_lexer": "ipython3",
   "version": "3.5.2"
  }
 },
 "nbformat": 4,
 "nbformat_minor": 0
}