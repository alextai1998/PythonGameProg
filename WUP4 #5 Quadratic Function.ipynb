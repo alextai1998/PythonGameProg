{
 "cells": [
  {
   "cell_type": "code",
   "execution_count": 4,
   "metadata": {
    "collapsed": true
   },
   "outputs": [],
   "source": [
    "import math\n",
    "# This program is supposed to compute the solution of the quadratic function"
   ]
  },
  {
   "cell_type": "code",
   "execution_count": 5,
   "metadata": {
    "collapsed": false
   },
   "outputs": [
    {
     "name": "stdout",
     "output_type": "stream",
     "text": [
      "Please input the 'a' of the quadratic function. (Numbers Only)1\n",
      "Please input the 'b' of the quadratic function. (Numbers Only)26\n",
      "Please input the 'c' of the quadratic function. (Numbers Only)3\n"
     ]
    }
   ],
   "source": [
    "# Asking for the input of the different variables\n",
    "a = input(\"Please input the 'a' of the quadratic function. (Numbers Only)\")\n",
    "b = input(\"Please input the 'b' of the quadratic function. (Numbers Only)\")\n",
    "c = input(\"Please input the 'c' of the quadratic function. (Numbers Only)\")\n",
    "\n",
    "\n",
    "# Converting text input into floating-point numbers\n",
    "a = float(a)\n",
    "b = float(b)\n",
    "c = float(c)"
   ]
  },
  {
   "cell_type": "code",
   "execution_count": 6,
   "metadata": {
    "collapsed": false
   },
   "outputs": [
    {
     "name": "stdout",
     "output_type": "stream",
     "text": [
      "The answers are -0.11590127327487387 and -25.884098726725128\n"
     ]
    }
   ],
   "source": [
    "# Calculating the discriminant of the quadratic function given the variables\n",
    "discriminant = pow(b, 2) - (4 * a * c)\n",
    "\n",
    "# Validates the data to make sure that the Disciminant is positive\n",
    "if discriminant < 0:\n",
    "    print(\"Error!\")\n",
    "    print(\"Please enter variables so that 'b^2-4ac' remains positive.\")\n",
    "\n",
    "# Calculating the solution of the quadratic function given the variables\n",
    "answer1 = (-b + math.sqrt(discriminant)) / (2 * a)\n",
    "answer2 = (-b - math.sqrt(discriminant)) / (2 * a)\n",
    "\n",
    "# Printing the results of the solution(s)\n",
    "if answer1 == answer2:\n",
    "    print(\"The answer is \" + str(answer1))\n",
    "else:\n",
    "    print(\"The answers are \" + str(answer1) + \" and \" + str(answer2))"
   ]
  }
 ],
 "metadata": {
  "anaconda-cloud": {},
  "kernelspec": {
   "display_name": "Python [Root]",
   "language": "python",
   "name": "Python [Root]"
  },
  "language_info": {
   "codemirror_mode": {
    "name": "ipython",
    "version": 3
   },
   "file_extension": ".py",
   "mimetype": "text/x-python",
   "name": "python",
   "nbconvert_exporter": "python",
   "pygments_lexer": "ipython3",
   "version": "3.5.2"
  }
 },
 "nbformat": 4,
 "nbformat_minor": 0
}
