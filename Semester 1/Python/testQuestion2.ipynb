{
 "cells": [
  {
   "cell_type": "markdown",
   "metadata": {},
   "source": [
    "# Equation Finder\n",
    "This program wil take in two points from the user and will return the equation of the line that passes through both points.\n",
    "Words that come after this sign \"#\" are called comments.\n",
    "Read the code below and it will take you through how the program works using comments!\n",
    "These comments are meant to explain the program, so be sure to read them!"
   ]
  },
  {
   "cell_type": "code",
   "execution_count": null,
   "metadata": {
    "collapsed": false
   },
   "outputs": [],
   "source": [
    "\"\"\"\n",
    "This section asks the user to enter the two points that are given.\n",
    "\"\"\"\n",
    "\n",
    "x1 = float(input(\"Please enter x1: \"))\n",
    "y1 = float(input(\"Please enter y1: \"))\n",
    "x2 = float(input(\"Please enter x2: \"))\n",
    "y2 = float(input(\"Please enter y2: \"))"
   ]
  },
  {
   "cell_type": "code",
   "execution_count": null,
   "metadata": {
    "collapsed": false
   },
   "outputs": [],
   "source": [
    "\"\"\"\n",
    "This section calculates the numbers that we will use later on. For example, this section calculates\n",
    "the slope among other things.\n",
    "\"\"\"\n",
    "\n",
    "m = (x1 - x2) / (y1 - y2) # This line calculates the slope\n",
    "b = y1 - (m * x1) # This line calculates the intercept\n",
    "A = -1 * m # This line calculates the negation of the slope (will be used in Standard Form)\n"
   ]
  },
  {
   "cell_type": "code",
   "execution_count": null,
   "metadata": {
    "collapsed": false
   },
   "outputs": [],
   "source": [
    "\"\"\"\n",
    "This section displays the linear equation in slope-intercept form\n",
    "\"\"\"\n",
    "\n",
    "print(\"The slope-intercept form of this linear equation is: 'y = %rx + %r'\" % (m, b))"
   ]
  },
  {
   "cell_type": "code",
   "execution_count": null,
   "metadata": {
    "collapsed": false
   },
   "outputs": [],
   "source": [
    "\"\"\"\n",
    "This section displays the linear equation in point-slope form\n",
    "\"\"\"\n",
    "\n",
    "print(\"The point-slope form of this linear equation is: '(y - %r) = %r(x - %r)'\" % (y1, m, x1))"
   ]
  },
  {
   "cell_type": "code",
   "execution_count": null,
   "metadata": {
    "collapsed": false
   },
   "outputs": [],
   "source": [
    "\"\"\"\n",
    "This section displays the linear equation in standard form\n",
    "\"\"\"\n",
    "\n",
    "print(\"The standard form of this linear equation is: '%rx + y = %r'\" % (A, b))"
   ]
  }
 ],
 "metadata": {
  "kernelspec": {
   "display_name": "Python [Root]",
   "language": "python",
   "name": "Python [Root]"
  },
  "language_info": {
   "codemirror_mode": {
    "name": "ipython",
    "version": 3
   },
   "file_extension": ".py",
   "mimetype": "text/x-python",
   "name": "python",
   "nbconvert_exporter": "python",
   "pygments_lexer": "ipython3",
   "version": "3.5.2"
  }
 },
 "nbformat": 4,
 "nbformat_minor": 0
}
