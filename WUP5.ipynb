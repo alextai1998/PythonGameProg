{
 "cells": [
  {
   "cell_type": "markdown",
   "metadata": {},
   "source": [
    "# Today's program is about the solar system\n",
    "$d=\\sqrt{(e_x - p_x)^2 + (e_y - p_y)^2 + (e_z - p_z)^2}$"
   ]
  },
  {
   "cell_type": "code",
   "execution_count": null,
   "metadata": {
    "collapsed": false
   },
   "outputs": [],
   "source": [
    "\"\"\"\n",
    "This program shows the size and distance of the planets in the solar system with to the Earth.\n",
    "User enters the planet name.\n",
    "\n",
    "\"\"\"\n",
    "\n",
    "\n",
    "planet = input(\"Enter the planet name(Venus, Mars, Jupiter, Neptune, Saturn, Mercury)\")\n",
    "\n",
    "if planet != \"Venus\" != \"Mars\" != \"Jupiter\" != \"Neptune\" != \"Saturn\" != \"Mercury\":\n",
    "    print(\"That is not a planet\")\n",
    "else:\n",
    "    print(\"This is a planet\")"
   ]
  },
  {
   "cell_type": "code",
   "execution_count": null,
   "metadata": {
    "collapsed": true
   },
   "outputs": [],
   "source": []
  },
  {
   "cell_type": "code",
   "execution_count": null,
   "metadata": {
    "collapsed": true
   },
   "outputs": [],
   "source": []
  },
  {
   "cell_type": "code",
   "execution_count": null,
   "metadata": {
    "collapsed": true
   },
   "outputs": [],
   "source": []
  }
 ],
 "metadata": {
  "kernelspec": {
   "display_name": "Python [Root]",
   "language": "python",
   "name": "Python [Root]"
  },
  "language_info": {
   "codemirror_mode": {
    "name": "ipython",
    "version": 3
   },
   "file_extension": ".py",
   "mimetype": "text/x-python",
   "name": "python",
   "nbconvert_exporter": "python",
   "pygments_lexer": "ipython3",
   "version": "3.5.2"
  }
 },
 "nbformat": 4,
 "nbformat_minor": 0
}
