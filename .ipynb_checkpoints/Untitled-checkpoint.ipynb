{
 "cells": [
  {
   "cell_type": "code",
   "execution_count": null,
   "metadata": {
    "collapsed": false
   },
   "outputs": [
    {
     "name": "stdout",
     "output_type": "stream",
     "text": [
      "Beams: 0\n",
      "Bricks: 900\n"
     ]
    }
   ],
   "source": [
    "import numpy as np #libary of functions\n",
    "import math as m #math fucntions\n",
    "import matplotlib.pyplot as plt #for plotting points on graph\n",
    "\n",
    "countBricks = 0\n",
    "countBeams= 0\n",
    "\n",
    "#read file\n",
    "legos = np.loadtxt('Legos2.txt',delimiter=',')\n",
    "\n",
    "#beams: (7,4)\n",
    "def beams(x,y):\n",
    "    distance = m.sqrt(x**2 + y**2)\n",
    "    return distance\n",
    "\n",
    "#bricks: (3,5)\n",
    "def bricks(x,y):\n",
    "    distance = m.sqrt(x**2 + y**2)\n",
    "    return distance\n",
    "\n",
    "#comparing distance for beams and bricks from the text file\n",
    "for x, y in legos:\n",
    "    if beams(x, y) < bricks(x, y):\n",
    "        countBeams += 1\n",
    "        plt.scatter(x, y, color = \"red\")\n",
    "\n",
    "    else:\n",
    "        countBricks += 1\n",
    "        plt.scatter(x, y, color = \"blue\")\n",
    "\n",
    "plt.show()\n",
    "\n",
    "beamlist = [(x, y) for x, y in legos if beams(x, y) < bricks(x, y)]\n",
    "bricklist = [(x, y) for x, y in legos if beams(x, y) > bricks(x, y)]\n",
    "\n",
    "print(\"Beams: %r\" %countBeams)\n",
    "print(\"Bricks: %r\" %countBricks)"
   ]
  },
  {
   "cell_type": "code",
   "execution_count": null,
   "metadata": {
    "collapsed": true
   },
   "outputs": [],
   "source": []
  }
 ],
 "metadata": {
  "anaconda-cloud": {},
  "kernelspec": {
   "display_name": "Python [Root]",
   "language": "python",
   "name": "Python [Root]"
  },
  "language_info": {
   "codemirror_mode": {
    "name": "ipython",
    "version": 3
   },
   "file_extension": ".py",
   "mimetype": "text/x-python",
   "name": "python",
   "nbconvert_exporter": "python",
   "pygments_lexer": "ipython3",
   "version": "3.5.2"
  }
 },
 "nbformat": 4,
 "nbformat_minor": 0
}
