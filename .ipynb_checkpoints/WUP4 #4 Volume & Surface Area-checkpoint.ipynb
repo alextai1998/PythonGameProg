{
 "cells": [
  {
   "cell_type": "code",
   "execution_count": 21,
   "metadata": {
    "collapsed": true
   },
   "outputs": [],
   "source": [
    "# This program is supposed to compute the surface area and volume of the figures shown in the WUP assignment"
   ]
  },
  {
   "cell_type": "code",
   "execution_count": 22,
   "metadata": {
    "collapsed": false
   },
   "outputs": [
    {
     "name": "stdout",
     "output_type": "stream",
     "text": [
      "Please input the length of each cube (Numbers Only)12.2\n"
     ]
    }
   ],
   "source": [
    "# Asking for the input of the cube dimensions\n",
    "dimension = input(\"Please input the length of each cube (Numbers Only)\")\n",
    "\n",
    "\n",
    "# Converting text input into floating-point numbers\n",
    "dimension = float(dimension)"
   ]
  },
  {
   "cell_type": "code",
   "execution_count": 23,
   "metadata": {
    "collapsed": true
   },
   "outputs": [],
   "source": [
    "# Defining the number of cubes for each figure\n",
    "NumberOfCubes = 4\n",
    "\n",
    "# Calculating the volume of the figures\n",
    "volume = pow(dimension, 3) * NumberOfCubes\n",
    "\n",
    "# Defining the number of faces for each figure\n",
    "# \"other\" refers to figures other than green\n",
    "greenFace = 16\n",
    "otherFace = 18\n",
    "\n",
    "# Calculating the surface area of the figures\n",
    "# \"other\" refers to figures other than green\n",
    "greenSurfaceArea = pow(dimension, 2) * greenFace\n",
    "otherSurfaceArea = pow(dimension, 2) * otherFace\n",
    "\n",
    "# Converting results into text\n",
    "volume = str(volume)\n",
    "greenSurfaceArea = str(greenSurfaceArea)\n",
    "otherSurfaceArea = str(otherSurfaceArea)"
   ]
  },
  {
   "cell_type": "code",
   "execution_count": 24,
   "metadata": {
    "collapsed": false
   },
   "outputs": [
    {
     "name": "stdout",
     "output_type": "stream",
     "text": [
      "The volume of all the figures are 7263.391999999999\n",
      " \n",
      "The surface area of the green figure is 2381.4399999999996\n",
      "The surface area of the blue figure is 2679.1199999999994\n",
      "The surface area of the red figure is 2679.1199999999994\n",
      "The surface area of the yellow figure is 2679.1199999999994\n",
      "The surface area of the purple figure is 2679.1199999999994\n"
     ]
    }
   ],
   "source": [
    "# Printing the results based on the user's input\n",
    "print(\"The volume of all the figures are \" + volume)\n",
    "print(\" \")\n",
    "print(\"The surface area of the green figure is \" + greenSurfaceArea)\n",
    "print(\"The surface area of the blue figure is \" + otherSurfaceArea)\n",
    "print(\"The surface area of the red figure is \" + otherSurfaceArea)\n",
    "print(\"The surface area of the yellow figure is \" + otherSurfaceArea)\n",
    "print(\"The surface area of the purple figure is \" + otherSurfaceArea)"
   ]
  },
  {
   "cell_type": "code",
   "execution_count": null,
   "metadata": {
    "collapsed": true
   },
   "outputs": [],
   "source": []
  }
 ],
 "metadata": {
  "anaconda-cloud": {},
  "kernelspec": {
   "display_name": "Python [Root]",
   "language": "python",
   "name": "Python [Root]"
  },
  "language_info": {
   "codemirror_mode": {
    "name": "ipython",
    "version": 3
   },
   "file_extension": ".py",
   "mimetype": "text/x-python",
   "name": "python",
   "nbconvert_exporter": "python",
   "pygments_lexer": "ipython3",
   "version": "3.5.2"
  }
 },
 "nbformat": 4,
 "nbformat_minor": 0
}
